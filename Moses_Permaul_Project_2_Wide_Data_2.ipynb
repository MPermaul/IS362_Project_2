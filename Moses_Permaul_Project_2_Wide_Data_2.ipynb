{
 "cells": [
  {
   "cell_type": "markdown",
   "metadata": {},
   "source": [
    "# Moses Permaul - IS362 - Project 2 - Wide Data 2\n"
   ]
  },
  {
   "cell_type": "markdown",
   "metadata": {},
   "source": [
    "This dataset contains many fields that are not consistent. For example, the \"date of birth\" column should be set to DD/MM/YYYY.  The \"name\" column should also be fixed to have first and last name in two seperate columns. \n",
    "\n",
    "After cleaning this data, we will find the following:\n",
    "1. Number of people in a particular state that have a college degree.\n",
    "2. how many people between a certain age live in a particular state."
   ]
  },
  {
   "cell_type": "markdown",
   "metadata": {},
   "source": [
    "### Python Code for Imports and Reading the Data\n",
    "To begin, we will import the standard libraries needed, read in the data, and display the first 5 rows."
   ]
  },
  {
   "cell_type": "code",
   "execution_count": 1,
   "metadata": {},
   "outputs": [
    {
     "data": {
      "text/html": [
       "<div>\n",
       "<style scoped>\n",
       "    .dataframe tbody tr th:only-of-type {\n",
       "        vertical-align: middle;\n",
       "    }\n",
       "\n",
       "    .dataframe tbody tr th {\n",
       "        vertical-align: top;\n",
       "    }\n",
       "\n",
       "    .dataframe thead th {\n",
       "        text-align: right;\n",
       "    }\n",
       "</style>\n",
       "<table border=\"1\" class=\"dataframe\">\n",
       "  <thead>\n",
       "    <tr style=\"text-align: right;\">\n",
       "      <th></th>\n",
       "      <th>Name</th>\n",
       "      <th>phonenumber</th>\n",
       "      <th>date of birth</th>\n",
       "      <th>location</th>\n",
       "      <th>Job</th>\n",
       "      <th>Degree</th>\n",
       "    </tr>\n",
       "  </thead>\n",
       "  <tbody>\n",
       "    <tr>\n",
       "      <th>0</th>\n",
       "      <td>Stacy Adams</td>\n",
       "      <td>555-2219</td>\n",
       "      <td>7/23/1998</td>\n",
       "      <td>florida</td>\n",
       "      <td>NaN</td>\n",
       "      <td>no</td>\n",
       "    </tr>\n",
       "    <tr>\n",
       "      <th>1</th>\n",
       "      <td>Walker, Alice</td>\n",
       "      <td>2129821112</td>\n",
       "      <td>1175</td>\n",
       "      <td>TX</td>\n",
       "      <td>lawyer</td>\n",
       "      <td>Y</td>\n",
       "    </tr>\n",
       "    <tr>\n",
       "      <th>2</th>\n",
       "      <td>Brandon</td>\n",
       "      <td>646-555-1236</td>\n",
       "      <td>12/18/1993</td>\n",
       "      <td>Dallas, TX</td>\n",
       "      <td>Banker</td>\n",
       "      <td>yes</td>\n",
       "    </tr>\n",
       "    <tr>\n",
       "      <th>3</th>\n",
       "      <td>Robert Jones</td>\n",
       "      <td>212-999-6597</td>\n",
       "      <td>8/26/1956</td>\n",
       "      <td>NC</td>\n",
       "      <td>retired</td>\n",
       "      <td>N</td>\n",
       "    </tr>\n",
       "  </tbody>\n",
       "</table>\n",
       "</div>"
      ],
      "text/plain": [
       "            Name   phonenumber date of birth    location      Job Degree\n",
       "0    Stacy Adams      555-2219     7/23/1998     florida      NaN     no\n",
       "1  Walker, Alice    2129821112          1175          TX   lawyer      Y\n",
       "2        Brandon  646-555-1236    12/18/1993  Dallas, TX   Banker    yes\n",
       "3   Robert Jones  212-999-6597     8/26/1956          NC  retired      N"
      ]
     },
     "execution_count": 1,
     "metadata": {},
     "output_type": "execute_result"
    }
   ],
   "source": [
    "# standard imports for numpy and pandas\n",
    "import numpy as np\n",
    "import pandas as pd\n",
    "\n",
    "# import dictionary of US States from python file\n",
    "from us_states import us_states\n",
    "\n",
    "# read wide data to DataFrame\n",
    "raw_data = pd.read_csv('data/wide_data_2.csv')\n",
    "\n",
    "# make a copy of DataFrame to preserve origanal import\n",
    "wide_data = raw_data.copy()\n",
    "\n",
    "# view first 5 rows to understand the data\n",
    "wide_data.head()"
   ]
  },
  {
   "cell_type": "markdown",
   "metadata": {},
   "source": [
    "### Cleaning the Data\n",
    "To clean this data, we will start by looking at the column names. The column names on this DataFrame is messy because some have no spaces between words and there are no standarized capitalizations. We will start by correcting this.\n",
    "\n",
    "We will first view the column names."
   ]
  },
  {
   "cell_type": "code",
   "execution_count": 2,
   "metadata": {},
   "outputs": [
    {
     "data": {
      "text/plain": [
       "Index(['Name', 'phonenumber', 'date of birth', 'location', 'Job', 'Degree'], dtype='object')"
      ]
     },
     "execution_count": 2,
     "metadata": {},
     "output_type": "execute_result"
    }
   ],
   "source": [
    "# view column names for the DataFrame\n",
    "wide_data.columns"
   ]
  },
  {
   "cell_type": "markdown",
   "metadata": {},
   "source": [
    "To fix this, we will create a list of new column names and update the dataframe to use it."
   ]
  },
  {
   "cell_type": "code",
   "execution_count": 3,
   "metadata": {},
   "outputs": [
    {
     "data": {
      "text/html": [
       "<div>\n",
       "<style scoped>\n",
       "    .dataframe tbody tr th:only-of-type {\n",
       "        vertical-align: middle;\n",
       "    }\n",
       "\n",
       "    .dataframe tbody tr th {\n",
       "        vertical-align: top;\n",
       "    }\n",
       "\n",
       "    .dataframe thead th {\n",
       "        text-align: right;\n",
       "    }\n",
       "</style>\n",
       "<table border=\"1\" class=\"dataframe\">\n",
       "  <thead>\n",
       "    <tr style=\"text-align: right;\">\n",
       "      <th></th>\n",
       "      <th>Name</th>\n",
       "      <th>Phone Number</th>\n",
       "      <th>Date of Birth</th>\n",
       "      <th>Location</th>\n",
       "      <th>Job</th>\n",
       "      <th>Degree</th>\n",
       "    </tr>\n",
       "  </thead>\n",
       "  <tbody>\n",
       "    <tr>\n",
       "      <th>0</th>\n",
       "      <td>Stacy Adams</td>\n",
       "      <td>555-2219</td>\n",
       "      <td>7/23/1998</td>\n",
       "      <td>florida</td>\n",
       "      <td>NaN</td>\n",
       "      <td>no</td>\n",
       "    </tr>\n",
       "    <tr>\n",
       "      <th>1</th>\n",
       "      <td>Walker, Alice</td>\n",
       "      <td>2129821112</td>\n",
       "      <td>1175</td>\n",
       "      <td>TX</td>\n",
       "      <td>lawyer</td>\n",
       "      <td>Y</td>\n",
       "    </tr>\n",
       "    <tr>\n",
       "      <th>2</th>\n",
       "      <td>Brandon</td>\n",
       "      <td>646-555-1236</td>\n",
       "      <td>12/18/1993</td>\n",
       "      <td>Dallas, TX</td>\n",
       "      <td>Banker</td>\n",
       "      <td>yes</td>\n",
       "    </tr>\n",
       "    <tr>\n",
       "      <th>3</th>\n",
       "      <td>Robert Jones</td>\n",
       "      <td>212-999-6597</td>\n",
       "      <td>8/26/1956</td>\n",
       "      <td>NC</td>\n",
       "      <td>retired</td>\n",
       "      <td>N</td>\n",
       "    </tr>\n",
       "  </tbody>\n",
       "</table>\n",
       "</div>"
      ],
      "text/plain": [
       "            Name  Phone Number Date of Birth    Location      Job Degree\n",
       "0    Stacy Adams      555-2219     7/23/1998     florida      NaN     no\n",
       "1  Walker, Alice    2129821112          1175          TX   lawyer      Y\n",
       "2        Brandon  646-555-1236    12/18/1993  Dallas, TX   Banker    yes\n",
       "3   Robert Jones  212-999-6597     8/26/1956          NC  retired      N"
      ]
     },
     "execution_count": 3,
     "metadata": {},
     "output_type": "execute_result"
    }
   ],
   "source": [
    "# list of cleaned column names\n",
    "col_names = ['Name', 'Phone Number', 'Date of Birth', 'Location', 'Job', 'Degree']\n",
    "\n",
    "# set columns to the list created\n",
    "wide_data.columns = col_names\n",
    "\n",
    "# display the dataframe\n",
    "wide_data"
   ]
  },
  {
   "cell_type": "markdown",
   "metadata": {},
   "source": [
    "Looking at the data, we can see that the column \"**Name**\" isn't standardized across each row. We have some with both first and last names seperated by a space, last name comma first, or just a first name with no last name.\n",
    "\n",
    "To clean this, we will first **seperate this single column of data into 2 different ones**, removing the commas, and **add it to the dataframe**. Once the column is split, we will **remove the \"Name\" column** as we no longer need it.\n",
    "\n",
    "Running the following code: \n",
    "\n",
    "```python\n",
    "wide_data[['First', 'Last']] = wide_data['Name'].str.split('_', expand=True)\n",
    "```\n",
    "\n",
    "Throws the error **ValueError: Columns must be same length as key** since splitting by a delimiter won't work on all names. To clean this data, we will need to export the data to a list, clean it, and then add it to the DataFrame as the columns \"First Name\" and \"Last Name\"."
   ]
  },
  {
   "cell_type": "code",
   "execution_count": 4,
   "metadata": {},
   "outputs": [
    {
     "data": {
      "text/html": [
       "<div>\n",
       "<style scoped>\n",
       "    .dataframe tbody tr th:only-of-type {\n",
       "        vertical-align: middle;\n",
       "    }\n",
       "\n",
       "    .dataframe tbody tr th {\n",
       "        vertical-align: top;\n",
       "    }\n",
       "\n",
       "    .dataframe thead th {\n",
       "        text-align: right;\n",
       "    }\n",
       "</style>\n",
       "<table border=\"1\" class=\"dataframe\">\n",
       "  <thead>\n",
       "    <tr style=\"text-align: right;\">\n",
       "      <th></th>\n",
       "      <th>First Name</th>\n",
       "      <th>Last Name</th>\n",
       "      <th>Date of Birth</th>\n",
       "      <th>Phone Number</th>\n",
       "      <th>Location</th>\n",
       "      <th>Job</th>\n",
       "      <th>Degree</th>\n",
       "    </tr>\n",
       "  </thead>\n",
       "  <tbody>\n",
       "    <tr>\n",
       "      <th>0</th>\n",
       "      <td>Stacy</td>\n",
       "      <td>Adams</td>\n",
       "      <td>7/23/1998</td>\n",
       "      <td>555-2219</td>\n",
       "      <td>florida</td>\n",
       "      <td>NaN</td>\n",
       "      <td>no</td>\n",
       "    </tr>\n",
       "    <tr>\n",
       "      <th>1</th>\n",
       "      <td>Walker</td>\n",
       "      <td>Alice</td>\n",
       "      <td>1175</td>\n",
       "      <td>2129821112</td>\n",
       "      <td>TX</td>\n",
       "      <td>lawyer</td>\n",
       "      <td>Y</td>\n",
       "    </tr>\n",
       "    <tr>\n",
       "      <th>2</th>\n",
       "      <td>Brandon</td>\n",
       "      <td>NaN</td>\n",
       "      <td>12/18/1993</td>\n",
       "      <td>646-555-1236</td>\n",
       "      <td>Dallas, TX</td>\n",
       "      <td>Banker</td>\n",
       "      <td>yes</td>\n",
       "    </tr>\n",
       "    <tr>\n",
       "      <th>3</th>\n",
       "      <td>Robert</td>\n",
       "      <td>Jones</td>\n",
       "      <td>8/26/1956</td>\n",
       "      <td>212-999-6597</td>\n",
       "      <td>NC</td>\n",
       "      <td>retired</td>\n",
       "      <td>N</td>\n",
       "    </tr>\n",
       "  </tbody>\n",
       "</table>\n",
       "</div>"
      ],
      "text/plain": [
       "  First Name Last Name Date of Birth  Phone Number    Location      Job Degree\n",
       "0      Stacy     Adams     7/23/1998      555-2219     florida      NaN     no\n",
       "1     Walker     Alice          1175    2129821112          TX   lawyer      Y\n",
       "2    Brandon       NaN    12/18/1993  646-555-1236  Dallas, TX   Banker    yes\n",
       "3     Robert     Jones     8/26/1956  212-999-6597          NC  retired      N"
      ]
     },
     "execution_count": 4,
     "metadata": {},
     "output_type": "execute_result"
    }
   ],
   "source": [
    "# export DataFrame data to list\n",
    "export = wide_data['Name'].tolist()\n",
    "\n",
    "# create lists to store first and last names\n",
    "first = []\n",
    "last = []\n",
    "\n",
    "# loop through exported list\n",
    "for name in export:\n",
    "    \n",
    "    # remove commas from name and split on whitespace\n",
    "    split_names = name.replace(',', '').split()\n",
    "  \n",
    "    # try block to test the updating of the lists\n",
    "    try:\n",
    "        \n",
    "        # append split names to respective lists\n",
    "        first.append(split_names[0])\n",
    "        last.append(split_names[1])\n",
    "    \n",
    "    # if there is no last name, there will be a out of range error, so append ''\n",
    "    except:\n",
    "        \n",
    "        # append a numpy NaN value\n",
    "        last.append(np.nan)\n",
    "\n",
    "# add first and last to DataFrame\n",
    "wide_data['First Name'] = first\n",
    "wide_data['Last Name'] = last\n",
    "        \n",
    "# delete 'Name' column\n",
    "del wide_data['Name']\n",
    "\n",
    "# display the dataframe ordered for readablility\n",
    "wide_data[['First Name', 'Last Name', 'Date of Birth', 'Phone Number', 'Location', 'Job', 'Degree']]"
   ]
  },
  {
   "cell_type": "markdown",
   "metadata": {},
   "source": [
    "Looking at the cleaned up \"First Name\" and \"Last Name\" columns, it looks like index 1 has the first and last names swapped. We'll correct this to finish up the data on names."
   ]
  },
  {
   "cell_type": "code",
   "execution_count": 5,
   "metadata": {},
   "outputs": [
    {
     "data": {
      "text/html": [
       "<div>\n",
       "<style scoped>\n",
       "    .dataframe tbody tr th:only-of-type {\n",
       "        vertical-align: middle;\n",
       "    }\n",
       "\n",
       "    .dataframe tbody tr th {\n",
       "        vertical-align: top;\n",
       "    }\n",
       "\n",
       "    .dataframe thead th {\n",
       "        text-align: right;\n",
       "    }\n",
       "</style>\n",
       "<table border=\"1\" class=\"dataframe\">\n",
       "  <thead>\n",
       "    <tr style=\"text-align: right;\">\n",
       "      <th></th>\n",
       "      <th>First Name</th>\n",
       "      <th>Last Name</th>\n",
       "      <th>Date of Birth</th>\n",
       "      <th>Phone Number</th>\n",
       "      <th>Location</th>\n",
       "      <th>Job</th>\n",
       "      <th>Degree</th>\n",
       "    </tr>\n",
       "  </thead>\n",
       "  <tbody>\n",
       "    <tr>\n",
       "      <th>0</th>\n",
       "      <td>Stacy</td>\n",
       "      <td>Adams</td>\n",
       "      <td>7/23/1998</td>\n",
       "      <td>555-2219</td>\n",
       "      <td>florida</td>\n",
       "      <td>NaN</td>\n",
       "      <td>no</td>\n",
       "    </tr>\n",
       "    <tr>\n",
       "      <th>1</th>\n",
       "      <td>Alice</td>\n",
       "      <td>Walker</td>\n",
       "      <td>1175</td>\n",
       "      <td>2129821112</td>\n",
       "      <td>TX</td>\n",
       "      <td>lawyer</td>\n",
       "      <td>Y</td>\n",
       "    </tr>\n",
       "    <tr>\n",
       "      <th>2</th>\n",
       "      <td>Brandon</td>\n",
       "      <td>NaN</td>\n",
       "      <td>12/18/1993</td>\n",
       "      <td>646-555-1236</td>\n",
       "      <td>Dallas, TX</td>\n",
       "      <td>Banker</td>\n",
       "      <td>yes</td>\n",
       "    </tr>\n",
       "    <tr>\n",
       "      <th>3</th>\n",
       "      <td>Robert</td>\n",
       "      <td>Jones</td>\n",
       "      <td>8/26/1956</td>\n",
       "      <td>212-999-6597</td>\n",
       "      <td>NC</td>\n",
       "      <td>retired</td>\n",
       "      <td>N</td>\n",
       "    </tr>\n",
       "  </tbody>\n",
       "</table>\n",
       "</div>"
      ],
      "text/plain": [
       "  First Name Last Name Date of Birth  Phone Number    Location      Job Degree\n",
       "0      Stacy     Adams     7/23/1998      555-2219     florida      NaN     no\n",
       "1      Alice    Walker          1175    2129821112          TX   lawyer      Y\n",
       "2    Brandon       NaN    12/18/1993  646-555-1236  Dallas, TX   Banker    yes\n",
       "3     Robert     Jones     8/26/1956  212-999-6597          NC  retired      N"
      ]
     },
     "execution_count": 5,
     "metadata": {},
     "output_type": "execute_result"
    }
   ],
   "source": [
    "# swap column values for index 1\n",
    "wide_data.loc[1][['First Name', 'Last Name']] = wide_data.loc[1][['Last Name', 'First Name']]\n",
    "\n",
    "# display the dataframe ordered for readablility\n",
    "wide_data[['First Name', 'Last Name', 'Date of Birth', 'Phone Number', 'Location', 'Job', 'Degree']]"
   ]
  },
  {
   "cell_type": "markdown",
   "metadata": {},
   "source": [
    "Looking at the questions we are trying to answer, we will clean up the \"Date of Birth\", \"Locations\", and \"Degree\" columns. These columns will allow us to analyze the data that will be required.\n",
    "\n",
    "To start this process, we are going to convert the \"Date of Birth\" column to datetime with the errors paramerter set to \"coerce\". This will allow us to keep good data and neglect entries that are incorrect since we are unable to know what the correct values should be."
   ]
  },
  {
   "cell_type": "code",
   "execution_count": 6,
   "metadata": {},
   "outputs": [],
   "source": [
    "# convert the 'Date of Birth' column to datetime format, errors param set to 'coerce'\n",
    "wide_data['Date of Birth'] = pd.to_datetime(wide_data['Date of Birth'], errors='coerce')"
   ]
  },
  {
   "cell_type": "markdown",
   "metadata": {},
   "source": [
    "For the location, we will remove spaces and then do a split using the comma as a delimiter to seperate any city names from the state name. We will only keep the state portion, so we will do some checks against the imported \"us_states\" dictionary."
   ]
  },
  {
   "cell_type": "code",
   "execution_count": 7,
   "metadata": {},
   "outputs": [
    {
     "data": {
      "text/html": [
       "<div>\n",
       "<style scoped>\n",
       "    .dataframe tbody tr th:only-of-type {\n",
       "        vertical-align: middle;\n",
       "    }\n",
       "\n",
       "    .dataframe tbody tr th {\n",
       "        vertical-align: top;\n",
       "    }\n",
       "\n",
       "    .dataframe thead th {\n",
       "        text-align: right;\n",
       "    }\n",
       "</style>\n",
       "<table border=\"1\" class=\"dataframe\">\n",
       "  <thead>\n",
       "    <tr style=\"text-align: right;\">\n",
       "      <th></th>\n",
       "      <th>First Name</th>\n",
       "      <th>Last Name</th>\n",
       "      <th>Date of Birth</th>\n",
       "      <th>Phone Number</th>\n",
       "      <th>Location</th>\n",
       "      <th>Job</th>\n",
       "      <th>Degree</th>\n",
       "    </tr>\n",
       "  </thead>\n",
       "  <tbody>\n",
       "    <tr>\n",
       "      <th>0</th>\n",
       "      <td>Stacy</td>\n",
       "      <td>Adams</td>\n",
       "      <td>1998-07-23</td>\n",
       "      <td>555-2219</td>\n",
       "      <td>Florida</td>\n",
       "      <td>NaN</td>\n",
       "      <td>no</td>\n",
       "    </tr>\n",
       "    <tr>\n",
       "      <th>1</th>\n",
       "      <td>Alice</td>\n",
       "      <td>Walker</td>\n",
       "      <td>NaT</td>\n",
       "      <td>2129821112</td>\n",
       "      <td>Texas</td>\n",
       "      <td>lawyer</td>\n",
       "      <td>Y</td>\n",
       "    </tr>\n",
       "    <tr>\n",
       "      <th>2</th>\n",
       "      <td>Brandon</td>\n",
       "      <td>NaN</td>\n",
       "      <td>1993-12-18</td>\n",
       "      <td>646-555-1236</td>\n",
       "      <td>Texas</td>\n",
       "      <td>Banker</td>\n",
       "      <td>yes</td>\n",
       "    </tr>\n",
       "    <tr>\n",
       "      <th>3</th>\n",
       "      <td>Robert</td>\n",
       "      <td>Jones</td>\n",
       "      <td>1956-08-26</td>\n",
       "      <td>212-999-6597</td>\n",
       "      <td>North Carolina</td>\n",
       "      <td>retired</td>\n",
       "      <td>N</td>\n",
       "    </tr>\n",
       "  </tbody>\n",
       "</table>\n",
       "</div>"
      ],
      "text/plain": [
       "  First Name Last Name Date of Birth  Phone Number        Location      Job  \\\n",
       "0      Stacy     Adams    1998-07-23      555-2219         Florida      NaN   \n",
       "1      Alice    Walker           NaT    2129821112           Texas   lawyer   \n",
       "2    Brandon       NaN    1993-12-18  646-555-1236           Texas   Banker   \n",
       "3     Robert     Jones    1956-08-26  212-999-6597  North Carolina  retired   \n",
       "\n",
       "  Degree  \n",
       "0     no  \n",
       "1      Y  \n",
       "2    yes  \n",
       "3      N  "
      ]
     },
     "execution_count": 7,
     "metadata": {},
     "output_type": "execute_result"
    }
   ],
   "source": [
    "# export DataFrame data to list\n",
    "export2 = wide_data['Location'].tolist()\n",
    "\n",
    "# remove spaces, split each item on comma, and store the last index on each item\n",
    "export2 = [x.replace(' ', '').split(',')[-1] for x in export2]\n",
    "\n",
    "# list to store clean state/locaton data\n",
    "state = []\n",
    "\n",
    "# loop through export2 data\n",
    "for x in export2:\n",
    "    \n",
    "    # check to see if title case version of location is in us_states keys\n",
    "    if x.title() in us_states.keys():\n",
    "        \n",
    "        # add title case version if True \n",
    "        state.append(x.title())\n",
    "    \n",
    "    # check to see if upper version of location is a value in dictionary\n",
    "    elif x.upper() in us_states.values():\n",
    "        \n",
    "        # loop through dict items\n",
    "        for key, value in us_states.items(): \n",
    "            \n",
    "            # check to see if upper version of location is a value\n",
    "            if x.upper() == value:\n",
    "                \n",
    "                # add key to list\n",
    "                state.append(key)\n",
    "\n",
    "# set 'Location' column to state list    \n",
    "wide_data['Location'] = state\n",
    "\n",
    "# display the dataframe ordered for readablility\n",
    "wide_data[['First Name', 'Last Name', 'Date of Birth', 'Phone Number', 'Location', 'Job', 'Degree']]"
   ]
  },
  {
   "cell_type": "markdown",
   "metadata": {},
   "source": [
    "For the degree, we will clean this by keeping either a \"Y\" for yes and \"N\" for no. We will do this by exporting the upper version of the \"Degree\" column, and then splitting it, keeping only the 0 index."
   ]
  },
  {
   "cell_type": "code",
   "execution_count": 8,
   "metadata": {},
   "outputs": [
    {
     "data": {
      "text/html": [
       "<div>\n",
       "<style scoped>\n",
       "    .dataframe tbody tr th:only-of-type {\n",
       "        vertical-align: middle;\n",
       "    }\n",
       "\n",
       "    .dataframe tbody tr th {\n",
       "        vertical-align: top;\n",
       "    }\n",
       "\n",
       "    .dataframe thead th {\n",
       "        text-align: right;\n",
       "    }\n",
       "</style>\n",
       "<table border=\"1\" class=\"dataframe\">\n",
       "  <thead>\n",
       "    <tr style=\"text-align: right;\">\n",
       "      <th></th>\n",
       "      <th>First Name</th>\n",
       "      <th>Last Name</th>\n",
       "      <th>Date of Birth</th>\n",
       "      <th>Phone Number</th>\n",
       "      <th>Location</th>\n",
       "      <th>Job</th>\n",
       "      <th>Degree</th>\n",
       "    </tr>\n",
       "  </thead>\n",
       "  <tbody>\n",
       "    <tr>\n",
       "      <th>0</th>\n",
       "      <td>Stacy</td>\n",
       "      <td>Adams</td>\n",
       "      <td>1998-07-23</td>\n",
       "      <td>555-2219</td>\n",
       "      <td>Florida</td>\n",
       "      <td>NaN</td>\n",
       "      <td>N</td>\n",
       "    </tr>\n",
       "    <tr>\n",
       "      <th>1</th>\n",
       "      <td>Alice</td>\n",
       "      <td>Walker</td>\n",
       "      <td>NaT</td>\n",
       "      <td>2129821112</td>\n",
       "      <td>Texas</td>\n",
       "      <td>lawyer</td>\n",
       "      <td>Y</td>\n",
       "    </tr>\n",
       "    <tr>\n",
       "      <th>2</th>\n",
       "      <td>Brandon</td>\n",
       "      <td>NaN</td>\n",
       "      <td>1993-12-18</td>\n",
       "      <td>646-555-1236</td>\n",
       "      <td>Texas</td>\n",
       "      <td>Banker</td>\n",
       "      <td>Y</td>\n",
       "    </tr>\n",
       "    <tr>\n",
       "      <th>3</th>\n",
       "      <td>Robert</td>\n",
       "      <td>Jones</td>\n",
       "      <td>1956-08-26</td>\n",
       "      <td>212-999-6597</td>\n",
       "      <td>North Carolina</td>\n",
       "      <td>retired</td>\n",
       "      <td>N</td>\n",
       "    </tr>\n",
       "  </tbody>\n",
       "</table>\n",
       "</div>"
      ],
      "text/plain": [
       "  First Name Last Name Date of Birth  Phone Number        Location      Job  \\\n",
       "0      Stacy     Adams    1998-07-23      555-2219         Florida      NaN   \n",
       "1      Alice    Walker           NaT    2129821112           Texas   lawyer   \n",
       "2    Brandon       NaN    1993-12-18  646-555-1236           Texas   Banker   \n",
       "3     Robert     Jones    1956-08-26  212-999-6597  North Carolina  retired   \n",
       "\n",
       "  Degree  \n",
       "0      N  \n",
       "1      Y  \n",
       "2      Y  \n",
       "3      N  "
      ]
     },
     "execution_count": 8,
     "metadata": {},
     "output_type": "execute_result"
    }
   ],
   "source": [
    "# export DataFrame data to list with upper version\n",
    "export3 = wide_data['Degree'].str.upper().tolist()\n",
    "\n",
    "# split export3 and keep only the first index\n",
    "split_degree = [x[0] for x in export3]\n",
    "\n",
    "# set 'Location' column to state list    \n",
    "wide_data['Degree'] = split_degree\n",
    "\n",
    "# display the dataframe ordered for readablility\n",
    "wide_data[['First Name', 'Last Name', 'Date of Birth', 'Phone Number', 'Location', 'Job', 'Degree']]"
   ]
  },
  {
   "cell_type": "markdown",
   "metadata": {},
   "source": [
    "### Analyzing the Data\n",
    "1. Number of people in a particular state that have a college degree.\n"
   ]
  },
  {
   "cell_type": "code",
   "execution_count": 9,
   "metadata": {},
   "outputs": [
    {
     "data": {
      "text/plain": [
       "Location\n",
       "Florida           0\n",
       "North Carolina    0\n",
       "Texas             2\n",
       "Name: Degree, dtype: int32"
      ]
     },
     "execution_count": 9,
     "metadata": {},
     "output_type": "execute_result"
    }
   ],
   "source": [
    "# use .eq() to find degrees equal to 'Y' and group by location\n",
    "wide_data['Degree'].eq('Y').astype(int).groupby(wide_data['Location']).sum()"
   ]
  },
  {
   "cell_type": "markdown",
   "metadata": {},
   "source": [
    "We can see that only North Carolina has people with degrees. There are 2 people in total."
   ]
  },
  {
   "cell_type": "markdown",
   "metadata": {},
   "source": [
    "2. How many people between a certain age live in a particular state."
   ]
  },
  {
   "cell_type": "code",
   "execution_count": 11,
   "metadata": {},
   "outputs": [
    {
     "data": {
      "text/html": [
       "<div>\n",
       "<style scoped>\n",
       "    .dataframe tbody tr th:only-of-type {\n",
       "        vertical-align: middle;\n",
       "    }\n",
       "\n",
       "    .dataframe tbody tr th {\n",
       "        vertical-align: top;\n",
       "    }\n",
       "\n",
       "    .dataframe thead th {\n",
       "        text-align: right;\n",
       "    }\n",
       "</style>\n",
       "<table border=\"1\" class=\"dataframe\">\n",
       "  <thead>\n",
       "    <tr style=\"text-align: right;\">\n",
       "      <th></th>\n",
       "      <th>First Name</th>\n",
       "      <th>Last Name</th>\n",
       "      <th>Date of Birth</th>\n",
       "      <th>Age</th>\n",
       "      <th>Location</th>\n",
       "    </tr>\n",
       "  </thead>\n",
       "  <tbody>\n",
       "    <tr>\n",
       "      <th>0</th>\n",
       "      <td>Stacy</td>\n",
       "      <td>Adams</td>\n",
       "      <td>1998-07-23</td>\n",
       "      <td>22.0</td>\n",
       "      <td>Florida</td>\n",
       "    </tr>\n",
       "    <tr>\n",
       "      <th>1</th>\n",
       "      <td>Alice</td>\n",
       "      <td>Walker</td>\n",
       "      <td>NaT</td>\n",
       "      <td>NaN</td>\n",
       "      <td>Texas</td>\n",
       "    </tr>\n",
       "    <tr>\n",
       "      <th>2</th>\n",
       "      <td>Brandon</td>\n",
       "      <td>NaN</td>\n",
       "      <td>1993-12-18</td>\n",
       "      <td>26.0</td>\n",
       "      <td>Texas</td>\n",
       "    </tr>\n",
       "    <tr>\n",
       "      <th>3</th>\n",
       "      <td>Robert</td>\n",
       "      <td>Jones</td>\n",
       "      <td>1956-08-26</td>\n",
       "      <td>64.0</td>\n",
       "      <td>North Carolina</td>\n",
       "    </tr>\n",
       "  </tbody>\n",
       "</table>\n",
       "</div>"
      ],
      "text/plain": [
       "  First Name Last Name Date of Birth   Age        Location\n",
       "0      Stacy     Adams    1998-07-23  22.0         Florida\n",
       "1      Alice    Walker           NaT   NaN           Texas\n",
       "2    Brandon       NaN    1993-12-18  26.0           Texas\n",
       "3     Robert     Jones    1956-08-26  64.0  North Carolina"
      ]
     },
     "execution_count": 11,
     "metadata": {},
     "output_type": "execute_result"
    }
   ],
   "source": [
    "# create copy of wide_data\n",
    "df_age = wide_data.copy()\n",
    "\n",
    "# store now timestamp\n",
    "now = pd.Timestamp('now')\n",
    "\n",
    "# create Age column based on now minus 'Date of Birth', based on Years\n",
    "df_age['Age'] = (now - df_age['Date of Birth']).astype('m8[Y]')\n",
    "\n",
    "# display the dataframe ordered for readablility\n",
    "df_age[['First Name', 'Last Name', 'Date of Birth', 'Age', 'Location']]"
   ]
  },
  {
   "cell_type": "markdown",
   "metadata": {},
   "source": [
    "Looking at the above DataFrame, we can now see the ages for each person as long as there was a good Date of Birth was added. We don't know exactly how the age groups will work, but now that we have the ages, we can easily group them further.\n",
    "\n",
    "For example, we can find out how many people in each state are less than 50."
   ]
  },
  {
   "cell_type": "code",
   "execution_count": 12,
   "metadata": {},
   "outputs": [
    {
     "name": "stdout",
     "output_type": "stream",
     "text": [
      "Persons Under the Age of 50:\n"
     ]
    },
    {
     "data": {
      "text/plain": [
       "Location\n",
       "Florida           1\n",
       "North Carolina    0\n",
       "Texas             1\n",
       "Name: Age, dtype: int64"
      ]
     },
     "execution_count": 12,
     "metadata": {},
     "output_type": "execute_result"
    }
   ],
   "source": [
    "print('Persons Under the Age of 50:')\n",
    "\n",
    "# use .eq() to find ages below 50 and group by location\n",
    "df_age['Age'].where(df_age['Age'] < 50).groupby(df_age['Location']).count()"
   ]
  },
  {
   "cell_type": "code",
   "execution_count": null,
   "metadata": {},
   "outputs": [],
   "source": []
  }
 ],
 "metadata": {
  "kernelspec": {
   "display_name": "Python 3",
   "language": "python",
   "name": "python3"
  },
  "language_info": {
   "codemirror_mode": {
    "name": "ipython",
    "version": 3
   },
   "file_extension": ".py",
   "mimetype": "text/x-python",
   "name": "python",
   "nbconvert_exporter": "python",
   "pygments_lexer": "ipython3",
   "version": "3.8.3"
  }
 },
 "nbformat": 4,
 "nbformat_minor": 4
}
